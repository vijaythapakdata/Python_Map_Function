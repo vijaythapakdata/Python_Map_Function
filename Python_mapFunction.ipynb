{
  "nbformat": 4,
  "nbformat_minor": 0,
  "metadata": {
    "colab": {
      "name": "Python_mapFunction.ipynb",
      "provenance": [],
      "authorship_tag": "ABX9TyOLwib9qjV5ia/xJrdnc5Go"
    },
    "kernelspec": {
      "name": "python3",
      "display_name": "Python 3"
    },
    "language_info": {
      "name": "python"
    }
  },
  "cells": [
    {
      "cell_type": "code",
      "metadata": {
        "colab": {
          "base_uri": "https://localhost:8080/"
        },
        "id": "_d96MYzTdoz2",
        "outputId": "a835001d-ce9c-4599-9c1c-70840d4faa88"
      },
      "source": [
        "def square(x):\n",
        "  return x*x\n",
        "\n",
        "nums=[1,2,3,4,5,6]\n",
        "\n",
        "nums_squared=map(square,nums) #here square is function and nums is iterable\n",
        "\n",
        "for num in nums_squared:\n",
        "  print(num)\n"
      ],
      "execution_count": 1,
      "outputs": [
        {
          "output_type": "stream",
          "text": [
            "1\n",
            "4\n",
            "9\n",
            "16\n",
            "25\n",
            "36\n"
          ],
          "name": "stdout"
        }
      ]
    }
  ]
}