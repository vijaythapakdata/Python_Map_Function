{
  "nbformat": 4,
  "nbformat_minor": 0,
  "metadata": {
    "colab": {
      "name": "Python_mapFunction.ipynb",
      "provenance": [],
      "authorship_tag": "ABX9TyOGqCnT1Qj6f7KrRV8Mw7Bw",
      "include_colab_link": true
    },
    "kernelspec": {
      "name": "python3",
      "display_name": "Python 3"
    },
    "language_info": {
      "name": "python"
    }
  },
  "cells": [
    {
      "cell_type": "markdown",
      "metadata": {
        "id": "view-in-github",
        "colab_type": "text"
      },
      "source": [
        "<a href=\"https://colab.research.google.com/github/vijaythapakdata/Python_Map_Function/blob/main/Python_mapFunction.ipynb\" target=\"_parent\"><img src=\"https://colab.research.google.com/assets/colab-badge.svg\" alt=\"Open In Colab\"/></a>"
      ]
    },
    {
      "cell_type": "code",
      "metadata": {
        "colab": {
          "base_uri": "https://localhost:8080/"
        },
        "id": "_d96MYzTdoz2",
        "outputId": "a835001d-ce9c-4599-9c1c-70840d4faa88"
      },
      "source": [
        "def square(x):\n",
        "  return x*x\n",
        "\n",
        "nums=[1,2,3,4,5,6]\n",
        "\n",
        "nums_squared=map(square,nums) #here square is function and nums is iterable\n",
        "\n",
        "for num in nums_squared:\n",
        "  print(num)\n"
      ],
      "execution_count": 1,
      "outputs": [
        {
          "output_type": "stream",
          "text": [
            "1\n",
            "4\n",
            "9\n",
            "16\n",
            "25\n",
            "36\n"
          ],
          "name": "stdout"
        }
      ]
    },
    {
      "cell_type": "code",
      "metadata": {
        "colab": {
          "base_uri": "https://localhost:8080/"
        },
        "id": "sCg5P3IfeZCY",
        "outputId": "9f22551e-c601-4df2-a50e-33b101b68a32"
      },
      "source": [
        "#python map() equivalent function\n",
        "\n",
        "def square(x):\n",
        "  return x*x\n",
        "\n",
        "def mymap(func,iterable):\n",
        "  for i in iterable:\n",
        "    yield func(i)\n",
        "\n",
        "nums=[1,2,3,4,5,6]\n",
        "\n",
        "nums_squared=map(square,nums)\n",
        "\n",
        "for i in nums_squared:\n",
        "  print(i)"
      ],
      "execution_count": 2,
      "outputs": [
        {
          "output_type": "stream",
          "text": [
            "1\n",
            "4\n",
            "9\n",
            "16\n",
            "25\n",
            "36\n"
          ],
          "name": "stdout"
        }
      ]
    },
    {
      "cell_type": "code",
      "metadata": {
        "colab": {
          "base_uri": "https://localhost:8080/"
        },
        "id": "jnfY5qgDe_MW",
        "outputId": "e6c4c628-4230-4617-d7a7-59caae5b24df"
      },
      "source": [
        "#python lambda\n",
        "#it is also known as anonymys function\n",
        "nums=[1,2,3,4,5,6]\n",
        "\n",
        "nums_squared=map(lambda x:x*x,nums)\n",
        "for num in nums_squared:\n",
        "  print(num)"
      ],
      "execution_count": 3,
      "outputs": [
        {
          "output_type": "stream",
          "text": [
            "1\n",
            "4\n",
            "9\n",
            "16\n",
            "25\n",
            "36\n"
          ],
          "name": "stdout"
        }
      ]
    },
    {
      "cell_type": "code",
      "metadata": {
        "colab": {
          "base_uri": "https://localhost:8080/"
        },
        "id": "cTcgBmfkfW6v",
        "outputId": "5014b06c-1800-4cca-fce4-95fb3bca1d53"
      },
      "source": [
        "#python map with multiple iterables\n",
        "\n",
        "def square(x,y):\n",
        "\n",
        "  return x*y\n",
        "\n",
        "num1=[1,2,3,4,5]\n",
        "num2=[6,7,8,9,10]\n",
        "nums_squared=map(square,num1,num2)\n",
        "\n",
        "for i in nums_squared:\n",
        "  print(i)\n",
        "\n"
      ],
      "execution_count": 5,
      "outputs": [
        {
          "output_type": "stream",
          "text": [
            "6\n",
            "14\n",
            "24\n",
            "36\n",
            "50\n"
          ],
          "name": "stdout"
        }
      ]
    },
    {
      "cell_type": "code",
      "metadata": {
        "colab": {
          "base_uri": "https://localhost:8080/"
        },
        "id": "5u1Fhjvof5r9",
        "outputId": "697b09d5-82c3-4e32-8cc1-6e318918a195"
      },
      "source": [
        "#python map with multiple function\n",
        "\n",
        "def add(x):\n",
        "  return x+x\n",
        "\n",
        "def multiply(x):\n",
        "  return x*x\n",
        "\n",
        "nums=[1,2,3,4,5]\n",
        "\n",
        "for i in nums:\n",
        "  vals=list(map(lambda x:x(i),(add,multiply)))\n",
        "  print(vals)"
      ],
      "execution_count": 6,
      "outputs": [
        {
          "output_type": "stream",
          "text": [
            "[2, 1]\n",
            "[4, 4]\n",
            "[6, 9]\n",
            "[8, 16]\n",
            "[10, 25]\n"
          ],
          "name": "stdout"
        }
      ]
    }
  ]
}