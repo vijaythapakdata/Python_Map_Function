{
  "nbformat": 4,
  "nbformat_minor": 0,
  "metadata": {
    "colab": {
      "name": "CopyandView.ipynb",
      "provenance": [],
      "collapsed_sections": [],
      "authorship_tag": "ABX9TyNVh+M2zxjbTDqiVYk2inhJ"
    },
    "kernelspec": {
      "name": "python3",
      "display_name": "Python 3"
    },
    "language_info": {
      "name": "python"
    }
  },
  "cells": [
    {
      "cell_type": "code",
      "metadata": {
        "colab": {
          "base_uri": "https://localhost:8080/"
        },
        "id": "RisnHrL5e8et",
        "outputId": "a7210c9a-6646-442b-aede-44f493ef625c"
      },
      "source": [
        "import numpy as np\n",
        "#copy\n",
        "arr=np.array([1,2,3,4,5])\n",
        "x=arr.copy()\n",
        "x[0]=89\n",
        "print(arr)\n",
        "print(x)"
      ],
      "execution_count": 2,
      "outputs": [
        {
          "output_type": "stream",
          "text": [
            "[1 2 3 4 5]\n",
            "[89  2  3  4  5]\n"
          ],
          "name": "stdout"
        }
      ]
    },
    {
      "cell_type": "code",
      "metadata": {
        "colab": {
          "base_uri": "https://localhost:8080/"
        },
        "id": "16MhfqqwfTUV",
        "outputId": "a9263211-d6c0-48d3-b255-469fa0bfe2ae"
      },
      "source": [
        "#view\n",
        "arr1=np.array([6,7,8,9,10,11,12])\n",
        "y=arr1.view()\n",
        "y[2]=87\n",
        "print(arr1)\n",
        "print(y)"
      ],
      "execution_count": 3,
      "outputs": [
        {
          "output_type": "stream",
          "text": [
            "[ 6  7 87  9 10 11 12]\n",
            "[ 6  7 87  9 10 11 12]\n"
          ],
          "name": "stdout"
        }
      ]
    },
    {
      "cell_type": "code",
      "metadata": {
        "colab": {
          "base_uri": "https://localhost:8080/"
        },
        "id": "xmkDDHMXfi2P",
        "outputId": "7b9ab6a4-2c53-4b3f-870b-7034556e8e3e"
      },
      "source": [
        "#above you can see that copy owns its data that is why we are not seeing any affect in original array however view does not owns it data since it is the view of original array\n",
        "arr[2]=4\n",
        "print(arr)\n",
        "print(x)"
      ],
      "execution_count": 5,
      "outputs": [
        {
          "output_type": "stream",
          "text": [
            "[1 2 4 4 5]\n",
            "[89  2  3  4  5]\n"
          ],
          "name": "stdout"
        }
      ]
    },
    {
      "cell_type": "code",
      "metadata": {
        "colab": {
          "base_uri": "https://localhost:8080/"
        },
        "id": "F0s2m-XUf-SA",
        "outputId": "beb841e0-b840-4fc1-8d7f-619765bb6b45"
      },
      "source": [
        "#now made changes in view array\n",
        "arr1[0]=12\n",
        "print(arr1)\n",
        "print(y)"
      ],
      "execution_count": 7,
      "outputs": [
        {
          "output_type": "stream",
          "text": [
            "[12  7 87  9 10 11 12]\n",
            "[12  7 87  9 10 11 12]\n"
          ],
          "name": "stdout"
        }
      ]
    },
    {
      "cell_type": "code",
      "metadata": {
        "colab": {
          "base_uri": "https://localhost:8080/"
        },
        "id": "vkWb74ClgMLD",
        "outputId": "06568c72-e943-4cfd-a4f3-5d3313b23a8e"
      },
      "source": [
        "#now check whether copy and view owns it data\n",
        "#numpy as method to check it base\n",
        "arr2=np.array([1,2,3,4,5,6])\n",
        "x=arr2.copy()\n",
        "y=arr2.view()\n",
        "\n",
        "print(arr2)\n",
        "#check copy owns it data or not \n",
        "print(x.base)\n",
        "\n",
        "#check view owns it data or not\n",
        "print(y.base)"
      ],
      "execution_count": 9,
      "outputs": [
        {
          "output_type": "stream",
          "text": [
            "[1 2 3 4 5 6]\n",
            "None\n",
            "[1 2 3 4 5 6]\n"
          ],
          "name": "stdout"
        }
      ]
    }
  ]
}