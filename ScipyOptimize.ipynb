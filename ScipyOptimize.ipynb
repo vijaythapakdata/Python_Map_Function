{
  "nbformat": 4,
  "nbformat_minor": 0,
  "metadata": {
    "colab": {
      "name": "ScipyOptimize.ipynb",
      "provenance": [],
      "collapsed_sections": [],
      "authorship_tag": "ABX9TyOcee235+ODyBtXPkEirroN",
      "include_colab_link": true
    },
    "kernelspec": {
      "name": "python3",
      "display_name": "Python 3"
    },
    "language_info": {
      "name": "python"
    }
  },
  "cells": [
    {
      "cell_type": "markdown",
      "metadata": {
        "id": "view-in-github",
        "colab_type": "text"
      },
      "source": [
        "<a href=\"https://colab.research.google.com/github/vijaythapakdata/Python_Map_Function/blob/main/ScipyOptimize.ipynb\" target=\"_parent\"><img src=\"https://colab.research.google.com/assets/colab-badge.svg\" alt=\"Open In Colab\"/></a>"
      ]
    },
    {
      "cell_type": "code",
      "metadata": {
        "id": "SOgnlGy7adZB"
      },
      "source": [
        "#root of an equation\n",
        "from scipy.optimize import root\n",
        "from math import cos"
      ],
      "execution_count": 1,
      "outputs": []
    },
    {
      "cell_type": "code",
      "metadata": {
        "colab": {
          "base_uri": "https://localhost:8080/"
        },
        "id": "rYRFWFMrauIm",
        "outputId": "7d0fcea0-3db4-40b0-a37c-7a9233553b84"
      },
      "source": [
        "def eqn(x):\n",
        "  return x+cos(x)\n",
        "\n",
        "myroot=root(eqn,1)\n",
        "print(myroot.x)"
      ],
      "execution_count": 5,
      "outputs": [
        {
          "output_type": "stream",
          "text": [
            "[-0.73908513]\n"
          ],
          "name": "stdout"
        }
      ]
    },
    {
      "cell_type": "code",
      "metadata": {
        "colab": {
          "base_uri": "https://localhost:8080/"
        },
        "id": "UqKf5vslbEcO",
        "outputId": "44fbfcfb-509f-45c1-dd41-191962f41acc"
      },
      "source": [
        "def eqn1(x):\n",
        "  return x+cos(x)\n",
        "\n",
        "myroot1=root(eqn1,0)\n",
        "print(myroot1.x)"
      ],
      "execution_count": 6,
      "outputs": [
        {
          "output_type": "stream",
          "text": [
            "[-0.73908513]\n"
          ],
          "name": "stdout"
        }
      ]
    },
    {
      "cell_type": "code",
      "metadata": {
        "id": "biL7izu5bVnP"
      },
      "source": [
        "from math import sin"
      ],
      "execution_count": 7,
      "outputs": []
    },
    {
      "cell_type": "code",
      "metadata": {
        "colab": {
          "base_uri": "https://localhost:8080/"
        },
        "id": "pbfpWT05bZcM",
        "outputId": "e1793a57-bb91-4f97-e070-e211d878abfc"
      },
      "source": [
        "def equation(x):\n",
        "  return x+sin(x)\n",
        "\n",
        "myrooty=root(equation,1)\n",
        "print(myrooty.x)"
      ],
      "execution_count": 10,
      "outputs": [
        {
          "output_type": "stream",
          "text": [
            "[0.]\n"
          ],
          "name": "stdout"
        }
      ]
    },
    {
      "cell_type": "code",
      "metadata": {
        "id": "VDm2LsX-b1Gw"
      },
      "source": [
        "from math import tan"
      ],
      "execution_count": 11,
      "outputs": []
    },
    {
      "cell_type": "code",
      "metadata": {
        "colab": {
          "base_uri": "https://localhost:8080/"
        },
        "id": "VM9JCzdqb5zZ",
        "outputId": "20c06d5d-86a2-49b8-ca33-a239c033f43f"
      },
      "source": [
        "def eqnn(x):\n",
        "  return x+tan(x)\n",
        "\n",
        "myrootTan=root(eqnn,-1)\n",
        "print(myrootTan.x)"
      ],
      "execution_count": 13,
      "outputs": [
        {
          "output_type": "stream",
          "text": [
            "[0.]\n"
          ],
          "name": "stdout"
        }
      ]
    },
    {
      "cell_type": "markdown",
      "metadata": {
        "id": "8aAs-s8Idk0W"
      },
      "source": [
        "Minimize function\n"
      ]
    },
    {
      "cell_type": "code",
      "metadata": {
        "colab": {
          "base_uri": "https://localhost:8080/"
        },
        "id": "KRqNJ2q9dnMZ",
        "outputId": "d7bc2d48-5179-47ff-89d3-a857d78f0ac8"
      },
      "source": [
        "from scipy.optimize import minimize\n",
        "def eqn(x):\n",
        "  return x**2 + x + 2\n",
        "\n",
        "mymin = minimize(eqn, 0, method='BFGS')\n",
        "\n",
        "print(mymin)"
      ],
      "execution_count": 16,
      "outputs": [
        {
          "output_type": "stream",
          "text": [
            "      fun: 1.75\n",
            " hess_inv: array([[0.50000001]])\n",
            "      jac: array([0.])\n",
            "  message: 'Optimization terminated successfully.'\n",
            "     nfev: 12\n",
            "      nit: 2\n",
            "     njev: 4\n",
            "   status: 0\n",
            "  success: True\n",
            "        x: array([-0.50000001])\n"
          ],
          "name": "stdout"
        }
      ]
    },
    {
      "cell_type": "code",
      "metadata": {
        "colab": {
          "base_uri": "https://localhost:8080/"
        },
        "id": "wVHTpTzpeYii",
        "outputId": "08198200-2b1d-4654-f47a-84ead08a49c6"
      },
      "source": [
        "def eqn1(x):\n",
        "  return x**3+x-4\n",
        "\n",
        "\n",
        "mymin=minimize(eqn1, 2, method=\"BFGS\")\n",
        "\n",
        "print(mymin)"
      ],
      "execution_count": 18,
      "outputs": [
        {
          "output_type": "stream",
          "text": [
            "      fun: -3.933871264861937e+26\n",
            " hess_inv: array([[0.48432227]])\n",
            "      jac: array([0.])\n",
            "  message: 'Optimization terminated successfully.'\n",
            "     nfev: 60\n",
            "      nit: 4\n",
            "     njev: 20\n",
            "   status: 0\n",
            "  success: True\n",
            "        x: array([-7.32723377e+08])\n"
          ],
          "name": "stdout"
        }
      ]
    }
  ]
}