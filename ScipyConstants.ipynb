{
  "nbformat": 4,
  "nbformat_minor": 0,
  "metadata": {
    "colab": {
      "name": "ScipyConstants.ipynb",
      "provenance": [],
      "collapsed_sections": [],
      "authorship_tag": "ABX9TyOfmdwOhAfFr+Z4BqHGWJ4v",
      "include_colab_link": true
    },
    "kernelspec": {
      "name": "python3",
      "display_name": "Python 3"
    },
    "language_info": {
      "name": "python"
    }
  },
  "cells": [
    {
      "cell_type": "markdown",
      "metadata": {
        "id": "view-in-github",
        "colab_type": "text"
      },
      "source": [
        "<a href=\"https://colab.research.google.com/github/vijaythapakdata/Python_Map_Function/blob/main/ScipyConstants.ipynb\" target=\"_parent\"><img src=\"https://colab.research.google.com/assets/colab-badge.svg\" alt=\"Open In Colab\"/></a>"
      ]
    },
    {
      "cell_type": "code",
      "metadata": {
        "colab": {
          "base_uri": "https://localhost:8080/"
        },
        "id": "qFvkoduyTik7",
        "outputId": "43c5ef97-b8d7-4bc8-d33a-5c0132d4df85"
      },
      "source": [
        "from scipy import constants\n",
        "print(dir(constants))"
      ],
      "execution_count": 1,
      "outputs": [
        {
          "output_type": "stream",
          "text": [
            "['Avogadro', 'Boltzmann', 'Btu', 'Btu_IT', 'Btu_th', 'ConstantWarning', 'G', 'Julian_year', 'N_A', 'Planck', 'R', 'Rydberg', 'Stefan_Boltzmann', 'Wien', '__all__', '__builtins__', '__cached__', '__doc__', '__file__', '__loader__', '__name__', '__package__', '__path__', '__spec__', '_obsolete_constants', 'absolute_import', 'acre', 'alpha', 'angstrom', 'arcmin', 'arcminute', 'arcsec', 'arcsecond', 'astronomical_unit', 'atm', 'atmosphere', 'atomic_mass', 'atto', 'au', 'bar', 'barrel', 'bbl', 'blob', 'c', 'calorie', 'calorie_IT', 'calorie_th', 'carat', 'centi', 'codata', 'constants', 'convert_temperature', 'day', 'deci', 'degree', 'degree_Fahrenheit', 'deka', 'division', 'dyn', 'dyne', 'e', 'eV', 'electron_mass', 'electron_volt', 'elementary_charge', 'epsilon_0', 'erg', 'exa', 'exbi', 'femto', 'fermi', 'find', 'fine_structure', 'fluid_ounce', 'fluid_ounce_US', 'fluid_ounce_imp', 'foot', 'g', 'gallon', 'gallon_US', 'gallon_imp', 'gas_constant', 'gibi', 'giga', 'golden', 'golden_ratio', 'grain', 'gram', 'gravitational_constant', 'h', 'hbar', 'hectare', 'hecto', 'horsepower', 'hour', 'hp', 'inch', 'k', 'kgf', 'kibi', 'kilo', 'kilogram_force', 'kmh', 'knot', 'lambda2nu', 'lb', 'lbf', 'light_year', 'liter', 'litre', 'long_ton', 'm_e', 'm_n', 'm_p', 'm_u', 'mach', 'mebi', 'mega', 'metric_ton', 'micro', 'micron', 'mil', 'mile', 'milli', 'minute', 'mmHg', 'mph', 'mu_0', 'nano', 'nautical_mile', 'neutron_mass', 'nu2lambda', 'ounce', 'oz', 'parsec', 'pebi', 'peta', 'physical_constants', 'pi', 'pico', 'point', 'pound', 'pound_force', 'precision', 'print_function', 'proton_mass', 'psi', 'pt', 'short_ton', 'sigma', 'slinch', 'slug', 'speed_of_light', 'speed_of_sound', 'stone', 'survey_foot', 'survey_mile', 'tebi', 'tera', 'test', 'ton_TNT', 'torr', 'troy_ounce', 'troy_pound', 'u', 'unit', 'value', 'week', 'yard', 'year', 'yobi', 'yotta', 'zebi', 'zepto', 'zero_Celsius', 'zetta']\n"
          ],
          "name": "stdout"
        }
      ]
    },
    {
      "cell_type": "code",
      "metadata": {
        "colab": {
          "base_uri": "https://localhost:8080/"
        },
        "id": "mqRGzaMFUVhL",
        "outputId": "e002a9d9-495f-40f9-b30d-529eb38b73cd"
      },
      "source": [
        "print(constants.pi)"
      ],
      "execution_count": 3,
      "outputs": [
        {
          "output_type": "stream",
          "text": [
            "3.141592653589793\n"
          ],
          "name": "stdout"
        }
      ]
    },
    {
      "cell_type": "code",
      "metadata": {
        "colab": {
          "base_uri": "https://localhost:8080/"
        },
        "id": "VEArPOuEUhRQ",
        "outputId": "23d2a285-753f-4f7a-e6e1-16656a794099"
      },
      "source": [
        "print(constants.litre)"
      ],
      "execution_count": 5,
      "outputs": [
        {
          "output_type": "stream",
          "text": [
            "0.001\n"
          ],
          "name": "stdout"
        }
      ]
    },
    {
      "cell_type": "code",
      "metadata": {
        "colab": {
          "base_uri": "https://localhost:8080/"
        },
        "id": "23KLsFZ3U0yy",
        "outputId": "8bebb58f-fe7f-44ea-b779-2214e37cfd87"
      },
      "source": [
        "print(constants.yotta)    #1e+24\n",
        "print(constants.zetta)    #1e+21\n",
        "print(constants.exa)      #1e+18\n",
        "print(constants.peta)     #1000000000000000.0\n",
        "print(constants.tera)     #1000000000000.0\n",
        "print(constants.giga)     #1000000000.0\n",
        "print(constants.mega)     #1000000.0\n",
        "print(constants.kilo)     #1000.0\n",
        "print(constants.hecto)    #100.0\n",
        "print(constants.deka)     #10.0\n",
        "print(constants.deci)     #0.1\n",
        "print(constants.centi)    #0.01\n",
        "print(constants.milli)    #0.001\n",
        "print(constants.micro)    #1e-06\n",
        "print(constants.nano)     #1e-09\n",
        "print(constants.pico)     #1e-12\n",
        "print(constants.femto)    #1e-15\n",
        "print(constants.atto)     #1e-18\n",
        "print(constants.zepto) "
      ],
      "execution_count": 6,
      "outputs": [
        {
          "output_type": "stream",
          "text": [
            "1e+24\n",
            "1e+21\n",
            "1e+18\n",
            "1000000000000000.0\n",
            "1000000000000.0\n",
            "1000000000.0\n",
            "1000000.0\n",
            "1000.0\n",
            "100.0\n",
            "10.0\n",
            "0.1\n",
            "0.01\n",
            "0.001\n",
            "1e-06\n",
            "1e-09\n",
            "1e-12\n",
            "1e-15\n",
            "1e-18\n",
            "1e-21\n"
          ],
          "name": "stdout"
        }
      ]
    },
    {
      "cell_type": "code",
      "metadata": {
        "colab": {
          "base_uri": "https://localhost:8080/"
        },
        "id": "cV1snxnmU7R7",
        "outputId": "6aee730b-f1db-419a-9825-8fb439f1c64f"
      },
      "source": [
        "#binaryprefixed\n",
        "print(constants.kibi)\n",
        "print(constants.mebi)"
      ],
      "execution_count": 9,
      "outputs": [
        {
          "output_type": "stream",
          "text": [
            "1024\n",
            "1048576\n"
          ],
          "name": "stdout"
        }
      ]
    },
    {
      "cell_type": "code",
      "metadata": {
        "colab": {
          "base_uri": "https://localhost:8080/"
        },
        "id": "QZeoa6NqVOzM",
        "outputId": "1dba37d8-7295-4869-a2fe-0b8e023e7eda"
      },
      "source": [
        "print(constants.gram)\n",
        "print(constants.pound)\n",
        "print(constants.ounce)"
      ],
      "execution_count": 12,
      "outputs": [
        {
          "output_type": "stream",
          "text": [
            "0.001\n",
            "0.45359236999999997\n",
            "0.028349523124999998\n"
          ],
          "name": "stdout"
        }
      ]
    },
    {
      "cell_type": "code",
      "metadata": {
        "colab": {
          "base_uri": "https://localhost:8080/"
        },
        "id": "-btu54fDVfpl",
        "outputId": "ee50f9fa-26ef-4e9f-af08-1ade7df1afef"
      },
      "source": [
        "#angle\n",
        "print(constants.degree)\n",
        "print(constants.arcsec)"
      ],
      "execution_count": 14,
      "outputs": [
        {
          "output_type": "stream",
          "text": [
            "0.017453292519943295\n",
            "4.84813681109536e-06\n"
          ],
          "name": "stdout"
        }
      ]
    },
    {
      "cell_type": "code",
      "metadata": {
        "colab": {
          "base_uri": "https://localhost:8080/"
        },
        "id": "mrASQes_Vs_g",
        "outputId": "aff44a0c-240b-40c3-d9a4-76955cdf2ae9"
      },
      "source": [
        "#time\n",
        "print(constants.hour)\n",
        "print(constants.minute)"
      ],
      "execution_count": 16,
      "outputs": [
        {
          "output_type": "stream",
          "text": [
            "3600.0\n",
            "60.0\n"
          ],
          "name": "stdout"
        }
      ]
    },
    {
      "cell_type": "code",
      "metadata": {
        "colab": {
          "base_uri": "https://localhost:8080/"
        },
        "id": "wWDUbiNFV1JP",
        "outputId": "8a057d71-60d8-4f6c-f939-dcb5d6aa6992"
      },
      "source": [
        "print(constants.week)\n",
        "print(constants.day)\n",
        "print(constants.year)\n",
        "print(constants.Julian_year)"
      ],
      "execution_count": 22,
      "outputs": [
        {
          "output_type": "stream",
          "text": [
            "604800.0\n",
            "86400.0\n",
            "31536000.0\n",
            "31557600.0\n"
          ],
          "name": "stdout"
        }
      ]
    },
    {
      "cell_type": "code",
      "metadata": {
        "colab": {
          "base_uri": "https://localhost:8080/"
        },
        "id": "FCXqcJAnWNwO",
        "outputId": "6350d764-72f8-452b-96f8-2b563a7a6812"
      },
      "source": [
        "#length\n",
        "print(constants.inch)"
      ],
      "execution_count": 23,
      "outputs": [
        {
          "output_type": "stream",
          "text": [
            "0.0254\n"
          ],
          "name": "stdout"
        }
      ]
    }
  ]
}