{
  "nbformat": 4,
  "nbformat_minor": 0,
  "metadata": {
    "colab": {
      "name": "NumpyRandomGenerator.ipynb",
      "provenance": [],
      "collapsed_sections": [],
      "authorship_tag": "ABX9TyMYuMjeye40fd2BGI/AbA4y"
    },
    "kernelspec": {
      "name": "python3",
      "display_name": "Python 3"
    },
    "language_info": {
      "name": "python"
    }
  },
  "cells": [
    {
      "cell_type": "code",
      "metadata": {
        "id": "bRsXyYvS28XC"
      },
      "source": [
        "from numpy import random"
      ],
      "execution_count": 1,
      "outputs": []
    },
    {
      "cell_type": "code",
      "metadata": {
        "colab": {
          "base_uri": "https://localhost:8080/"
        },
        "id": "75Bx7bZb3Z42",
        "outputId": "78253a3f-54d8-4c01-8072-b616ba19c1af"
      },
      "source": [
        "#generate integer random value\n",
        "arr=random.randint(100)\n",
        "print(arr)\n",
        "print(arr)"
      ],
      "execution_count": 6,
      "outputs": [
        {
          "output_type": "stream",
          "text": [
            "68\n",
            "68\n"
          ],
          "name": "stdout"
        }
      ]
    },
    {
      "cell_type": "code",
      "metadata": {
        "colab": {
          "base_uri": "https://localhost:8080/"
        },
        "id": "yTPdC48c3omG",
        "outputId": "2b7cb77f-044f-400d-cc30-85798a56d677"
      },
      "source": [
        "print(arr)"
      ],
      "execution_count": 7,
      "outputs": [
        {
          "output_type": "stream",
          "text": [
            "68\n"
          ],
          "name": "stdout"
        }
      ]
    },
    {
      "cell_type": "code",
      "metadata": {
        "colab": {
          "base_uri": "https://localhost:8080/"
        },
        "id": "lbXYz8-r3rBc",
        "outputId": "19217bb7-7d87-4342-823e-75621a464601"
      },
      "source": [
        "print(arr)"
      ],
      "execution_count": 8,
      "outputs": [
        {
          "output_type": "stream",
          "text": [
            "68\n"
          ],
          "name": "stdout"
        }
      ]
    },
    {
      "cell_type": "code",
      "metadata": {
        "colab": {
          "base_uri": "https://localhost:8080/"
        },
        "id": "1F5QlTk83v6N",
        "outputId": "6a78b872-a6d2-4316-98db-acfe466c4737"
      },
      "source": [
        "#generate float random value\n",
        "arr1=random.rand(100)\n",
        "print(arr1)"
      ],
      "execution_count": 9,
      "outputs": [
        {
          "output_type": "stream",
          "text": [
            "[0.22682296 0.98564975 0.19881859 0.95060654 0.83221161 0.198041\n",
            " 0.02281943 0.31293551 0.31090913 0.79222355 0.28754981 0.61502934\n",
            " 0.81608042 0.28395484 0.36094131 0.70069333 0.57718237 0.7236319\n",
            " 0.62538661 0.5817799  0.11410378 0.65848044 0.53495839 0.41957929\n",
            " 0.92124635 0.03524632 0.15439012 0.94610491 0.98377279 0.13726323\n",
            " 0.48481979 0.12686322 0.64411972 0.07582466 0.35391015 0.06814145\n",
            " 0.61308199 0.65095728 0.36453582 0.28219335 0.40711946 0.22629458\n",
            " 0.64668977 0.62537629 0.04049372 0.84040964 0.17525713 0.35204843\n",
            " 0.09544713 0.19663641 0.79330563 0.3069155  0.86773311 0.51180273\n",
            " 0.97722051 0.76459332 0.91786809 0.81058033 0.37170433 0.24816656\n",
            " 0.38384247 0.31213874 0.01653207 0.2388526  0.5906274  0.99412254\n",
            " 0.95685816 0.06790909 0.0046113  0.83659389 0.87197412 0.10200356\n",
            " 0.52729046 0.98110378 0.12819257 0.45478507 0.14362317 0.25987201\n",
            " 0.98910523 0.28315205 0.77609981 0.28123064 0.16939929 0.88512994\n",
            " 0.54854078 0.74738733 0.80475537 0.93393133 0.78413558 0.8664085\n",
            " 0.04383406 0.44346349 0.53111142 0.04337548 0.92529792 0.15330332\n",
            " 0.28600601 0.28286271 0.34801936 0.30270538]\n"
          ],
          "name": "stdout"
        }
      ]
    },
    {
      "cell_type": "code",
      "metadata": {
        "colab": {
          "base_uri": "https://localhost:8080/"
        },
        "id": "2spfgNSD4Blk",
        "outputId": "9405122d-1714-4fac-be80-c6fa4657adde"
      },
      "source": [
        "print(arr1)"
      ],
      "execution_count": 11,
      "outputs": [
        {
          "output_type": "stream",
          "text": [
            "[0.22682296 0.98564975 0.19881859 0.95060654 0.83221161 0.198041\n",
            " 0.02281943 0.31293551 0.31090913 0.79222355 0.28754981 0.61502934\n",
            " 0.81608042 0.28395484 0.36094131 0.70069333 0.57718237 0.7236319\n",
            " 0.62538661 0.5817799  0.11410378 0.65848044 0.53495839 0.41957929\n",
            " 0.92124635 0.03524632 0.15439012 0.94610491 0.98377279 0.13726323\n",
            " 0.48481979 0.12686322 0.64411972 0.07582466 0.35391015 0.06814145\n",
            " 0.61308199 0.65095728 0.36453582 0.28219335 0.40711946 0.22629458\n",
            " 0.64668977 0.62537629 0.04049372 0.84040964 0.17525713 0.35204843\n",
            " 0.09544713 0.19663641 0.79330563 0.3069155  0.86773311 0.51180273\n",
            " 0.97722051 0.76459332 0.91786809 0.81058033 0.37170433 0.24816656\n",
            " 0.38384247 0.31213874 0.01653207 0.2388526  0.5906274  0.99412254\n",
            " 0.95685816 0.06790909 0.0046113  0.83659389 0.87197412 0.10200356\n",
            " 0.52729046 0.98110378 0.12819257 0.45478507 0.14362317 0.25987201\n",
            " 0.98910523 0.28315205 0.77609981 0.28123064 0.16939929 0.88512994\n",
            " 0.54854078 0.74738733 0.80475537 0.93393133 0.78413558 0.8664085\n",
            " 0.04383406 0.44346349 0.53111142 0.04337548 0.92529792 0.15330332\n",
            " 0.28600601 0.28286271 0.34801936 0.30270538]\n"
          ],
          "name": "stdout"
        }
      ]
    },
    {
      "cell_type": "code",
      "metadata": {
        "colab": {
          "base_uri": "https://localhost:8080/"
        },
        "id": "XYKvvJzN4Hzr",
        "outputId": "22e6b941-6862-45b3-a1d0-a8af948cd8b6"
      },
      "source": [
        "#genearte 1-d array\n",
        "x=random.randint(100,size=(5))\n",
        "print(x)"
      ],
      "execution_count": 12,
      "outputs": [
        {
          "output_type": "stream",
          "text": [
            "[70 84 57 76 98]\n"
          ],
          "name": "stdout"
        }
      ]
    },
    {
      "cell_type": "code",
      "metadata": {
        "colab": {
          "base_uri": "https://localhost:8080/"
        },
        "id": "xfAuVwJ34RZj",
        "outputId": "e6fa2119-dcc0-4396-bdc4-b4089422b7e0"
      },
      "source": [
        "print(x)"
      ],
      "execution_count": 13,
      "outputs": [
        {
          "output_type": "stream",
          "text": [
            "[70 84 57 76 98]\n"
          ],
          "name": "stdout"
        }
      ]
    },
    {
      "cell_type": "code",
      "metadata": {
        "colab": {
          "base_uri": "https://localhost:8080/"
        },
        "id": "y6ZFRgIn4TaL",
        "outputId": "086dd076-f7d2-428f-94b4-64abb11a277c"
      },
      "source": [
        "#generate 2-d array with randomint()\n",
        "x1=random.randint(100,size=(3,5))\n",
        "print(x1)"
      ],
      "execution_count": 14,
      "outputs": [
        {
          "output_type": "stream",
          "text": [
            "[[30 52 56 81 31]\n",
            " [64 47 80 43 27]\n",
            " [82 71 16 80 24]]\n"
          ],
          "name": "stdout"
        }
      ]
    },
    {
      "cell_type": "code",
      "metadata": {
        "colab": {
          "base_uri": "https://localhost:8080/"
        },
        "id": "FnSknL1q4fll",
        "outputId": "60ffbb0d-5425-4987-bc49-3c39857c84fe"
      },
      "source": [
        "#generate array with floating number\n",
        "y=random.rand(100)\n",
        "print(y)"
      ],
      "execution_count": 15,
      "outputs": [
        {
          "output_type": "stream",
          "text": [
            "[0.09457396 0.54405548 0.38925293 0.61512907 0.6765962  0.45950702\n",
            " 0.3567118  0.53515071 0.80675387 0.89724049 0.33989753 0.00432243\n",
            " 0.6187209  0.9330908  0.05162072 0.54736378 0.23132043 0.01854246\n",
            " 0.37855743 0.24016329 0.07143277 0.28827289 0.30259396 0.35648382\n",
            " 0.00605042 0.67934099 0.09016774 0.47337857 0.91989724 0.77706946\n",
            " 0.11787879 0.69409998 0.11118206 0.48144956 0.20937576 0.58480425\n",
            " 0.24082899 0.66389443 0.21753051 0.15617958 0.46624553 0.89381614\n",
            " 0.05334131 0.80035241 0.89702722 0.6724915  0.9111753  0.96754147\n",
            " 0.50228453 0.53242353 0.59480044 0.87040344 0.5214871  0.58330844\n",
            " 0.1962341  0.38294321 0.63020027 0.78949471 0.77283742 0.79448669\n",
            " 0.52279429 0.38861599 0.021421   0.17511191 0.66414024 0.22825842\n",
            " 0.80311751 0.86933554 0.25715908 0.8802501  0.50677207 0.63158064\n",
            " 0.9279436  0.75033765 0.99283781 0.47452893 0.65432869 0.17182279\n",
            " 0.18778324 0.42974314 0.20049665 0.50204402 0.54807341 0.10383464\n",
            " 0.96997937 0.76161878 0.19454016 0.72307834 0.06722801 0.26834636\n",
            " 0.23529147 0.38689205 0.62954615 0.38663289 0.75706029 0.07033666\n",
            " 0.74615458 0.73147652 0.7065308  0.67582744]\n"
          ],
          "name": "stdout"
        }
      ]
    },
    {
      "cell_type": "code",
      "metadata": {
        "colab": {
          "base_uri": "https://localhost:8080/"
        },
        "id": "NiqdCDQL4pDX",
        "outputId": "e814efde-a0bc-409a-e04f-f316598c0f28"
      },
      "source": [
        "#generate 2-d array with floating point number \n",
        "\n",
        "y1=random.rand(3,5)\n",
        "print(y1)"
      ],
      "execution_count": 16,
      "outputs": [
        {
          "output_type": "stream",
          "text": [
            "[[0.43449171 0.93144835 0.09075244 0.37705523 0.71806197]\n",
            " [0.34762977 0.87027155 0.6952489  0.99040356 0.42417656]\n",
            " [0.34089139 0.10905759 0.75298422 0.45781699 0.71074217]]\n"
          ],
          "name": "stdout"
        }
      ]
    },
    {
      "cell_type": "code",
      "metadata": {
        "colab": {
          "base_uri": "https://localhost:8080/"
        },
        "id": "_6rBnwzB4z1w",
        "outputId": "51138112-2b0a-4220-cffc-7026543c759f"
      },
      "source": [
        "#choice of random \n",
        "\n",
        "z=random.choice([1,2,3,4,5])\n",
        "print(z)"
      ],
      "execution_count": 18,
      "outputs": [
        {
          "output_type": "stream",
          "text": [
            "5\n"
          ],
          "name": "stdout"
        }
      ]
    },
    {
      "cell_type": "code",
      "metadata": {
        "colab": {
          "base_uri": "https://localhost:8080/"
        },
        "id": "bZe2Dp5e48wt",
        "outputId": "520f1901-33a8-47ff-e0aa-697f162dacf9"
      },
      "source": [
        "#choice with size\n",
        "z1=random.choice([1,2,3,4,5],size=(3,5))\n",
        "print(z1)"
      ],
      "execution_count": 19,
      "outputs": [
        {
          "output_type": "stream",
          "text": [
            "[[4 4 2 1 3]\n",
            " [5 2 2 4 5]\n",
            " [2 2 2 4 1]]\n"
          ],
          "name": "stdout"
        }
      ]
    }
  ]
}