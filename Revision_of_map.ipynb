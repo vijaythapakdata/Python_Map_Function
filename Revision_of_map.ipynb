{
  "nbformat": 4,
  "nbformat_minor": 0,
  "metadata": {
    "colab": {
      "name": "Revision_of_map.ipynb",
      "provenance": [],
      "collapsed_sections": [],
      "authorship_tag": "ABX9TyPJpNVWP/TVXAVq43OEt0jh",
      "include_colab_link": true
    },
    "kernelspec": {
      "name": "python3",
      "display_name": "Python 3"
    },
    "language_info": {
      "name": "python"
    }
  },
  "cells": [
    {
      "cell_type": "markdown",
      "metadata": {
        "id": "view-in-github",
        "colab_type": "text"
      },
      "source": [
        "<a href=\"https://colab.research.google.com/github/vijaythapakdata/Python_Map_Function/blob/main/Revision_of_map.ipynb\" target=\"_parent\"><img src=\"https://colab.research.google.com/assets/colab-badge.svg\" alt=\"Open In Colab\"/></a>"
      ]
    },
    {
      "cell_type": "code",
      "metadata": {
        "colab": {
          "base_uri": "https://localhost:8080/"
        },
        "id": "tCvwwXYEgqne",
        "outputId": "5ce60cfc-056d-4a89-e771-2b2e55f0df3d"
      },
      "source": [
        "#python map() built in function applies given function on every item of the iterable(s) and return an iterator object\n",
        "\n",
        "def square(x):\n",
        "  return x*x\n",
        "\n",
        "nums=[1,2,3,4,5,6]\n",
        "\n",
        "nums_squared=map(square,nums)\n",
        "\n",
        "for i in nums_squared:\n",
        "  print(i)"
      ],
      "execution_count": 1,
      "outputs": [
        {
          "output_type": "stream",
          "text": [
            "1\n",
            "4\n",
            "9\n",
            "16\n",
            "25\n",
            "36\n"
          ],
          "name": "stdout"
        }
      ]
    },
    {
      "cell_type": "code",
      "metadata": {
        "colab": {
          "base_uri": "https://localhost:8080/"
        },
        "id": "0bSZcmzRhOdP",
        "outputId": "bf0a6ed1-8f33-43b1-e45d-2d635d866d24"
      },
      "source": [
        "#python map equivalent function\n",
        "\n",
        "def sqaure(x):\n",
        "  return x*x\n",
        "\n",
        "def mymap(func,iterate):\n",
        "  for i in iterate:\n",
        "    yield func(i)\n",
        "\n",
        "nums=[1,2,3,4,5,6]\n",
        "\n",
        "\n",
        "nums_squared=map(sqaure,nums)\n",
        "\n",
        "for i in nums_squared:\n",
        "  print(i)"
      ],
      "execution_count": 2,
      "outputs": [
        {
          "output_type": "stream",
          "text": [
            "1\n",
            "4\n",
            "9\n",
            "16\n",
            "25\n",
            "36\n"
          ],
          "name": "stdout"
        }
      ]
    },
    {
      "cell_type": "code",
      "metadata": {
        "colab": {
          "base_uri": "https://localhost:8080/"
        },
        "id": "h6zXtWEdhq_D",
        "outputId": "15aa59da-d2e8-471c-b063-cb4e37cfa8ae"
      },
      "source": [
        "#python lambda function\n",
        "\n",
        "nums=[5,6,7,8,9,10]\n",
        "\n",
        "nums_squared=map(lambda x:x*x,nums)\n",
        "\n",
        "for i in nums_squared:\n",
        "  print(i)"
      ],
      "execution_count": 3,
      "outputs": [
        {
          "output_type": "stream",
          "text": [
            "25\n",
            "36\n",
            "49\n",
            "64\n",
            "81\n",
            "100\n"
          ],
          "name": "stdout"
        }
      ]
    },
    {
      "cell_type": "code",
      "metadata": {
        "colab": {
          "base_uri": "https://localhost:8080/"
        },
        "id": "UEJZFbA7h49O",
        "outputId": "71ce5e6f-e3e8-48c9-b847-d46bc1c2f5d8"
      },
      "source": [
        "#python map multiple iterable\n",
        "\n",
        "def multiply(x,y):\n",
        "  return x*y\n",
        "\n",
        "nums1=[1,2,3,4,5]\n",
        "\n",
        "nums2=[6,7,8,9,10]\n",
        "\n",
        "nums_squared=map(multiply,nums1,nums2)\n",
        "\n",
        "for i in nums_squared:\n",
        "  print(i)"
      ],
      "execution_count": 5,
      "outputs": [
        {
          "output_type": "stream",
          "text": [
            "6\n",
            "14\n",
            "24\n",
            "36\n",
            "50\n"
          ],
          "name": "stdout"
        }
      ]
    },
    {
      "cell_type": "code",
      "metadata": {
        "colab": {
          "base_uri": "https://localhost:8080/"
        },
        "id": "hQD6Ky2riYOo",
        "outputId": "6d8e356a-45b4-4744-d675-a446879bff54"
      },
      "source": [
        "#python map with muliple function\n",
        "\n",
        "def add(x):\n",
        "  return x+x\n",
        "\n",
        "def multiply(x):\n",
        "  return x*x\n",
        "\n",
        "\n",
        "nums=[1,2,3,4,5]\n",
        "\n",
        "for i in nums:\n",
        "  vals=list(map(lambda x:x(i),(add,multiply)))\n",
        "\n",
        "  print(vals)"
      ],
      "execution_count": 6,
      "outputs": [
        {
          "output_type": "stream",
          "text": [
            "[2, 1]\n",
            "[4, 4]\n",
            "[6, 9]\n",
            "[8, 16]\n",
            "[10, 25]\n"
          ],
          "name": "stdout"
        }
      ]
    },
    {
      "cell_type": "code",
      "metadata": {
        "id": "IJVG56qEi8xZ"
      },
      "source": [
        ""
      ],
      "execution_count": null,
      "outputs": []
    },
    {
      "cell_type": "code",
      "metadata": {
        "id": "CzPLX-poi9PP"
      },
      "source": [
        ""
      ],
      "execution_count": null,
      "outputs": []
    }
  ]
}